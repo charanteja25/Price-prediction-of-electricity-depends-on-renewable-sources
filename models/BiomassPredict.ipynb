{
 "cells": [
  {
   "cell_type": "code",
   "execution_count": 7,
   "id": "4ff98f89",
   "metadata": {},
   "outputs": [],
   "source": [
    "import os\n",
    "import mysql.connector\n",
    "import pandas as pd\n",
    "import numpy as np\n",
    "import seaborn as sns"
   ]
  },
  {
   "cell_type": "code",
   "execution_count": 2,
   "id": "51183548",
   "metadata": {},
   "outputs": [],
   "source": [
    "biomass=pd.read_csv('D:/Project/df_fuel_ckan.csv')"
   ]
  },
  {
   "cell_type": "code",
   "execution_count": 3,
   "id": "bdb13517",
   "metadata": {},
   "outputs": [
    {
     "data": {
      "text/html": [
       "<div>\n",
       "<style scoped>\n",
       "    .dataframe tbody tr th:only-of-type {\n",
       "        vertical-align: middle;\n",
       "    }\n",
       "\n",
       "    .dataframe tbody tr th {\n",
       "        vertical-align: top;\n",
       "    }\n",
       "\n",
       "    .dataframe thead th {\n",
       "        text-align: right;\n",
       "    }\n",
       "</style>\n",
       "<table border=\"1\" class=\"dataframe\">\n",
       "  <thead>\n",
       "    <tr style=\"text-align: right;\">\n",
       "      <th></th>\n",
       "      <th>Date</th>\n",
       "      <th>Run</th>\n",
       "      <th>1</th>\n",
       "      <th>2</th>\n",
       "      <th>3</th>\n",
       "      <th>4</th>\n",
       "      <th>5</th>\n",
       "      <th>6</th>\n",
       "      <th>7</th>\n",
       "      <th>8</th>\n",
       "      <th>...</th>\n",
       "      <th>42</th>\n",
       "      <th>43</th>\n",
       "      <th>44</th>\n",
       "      <th>45</th>\n",
       "      <th>46</th>\n",
       "      <th>47</th>\n",
       "      <th>48</th>\n",
       "      <th>49</th>\n",
       "      <th>50</th>\n",
       "      <th>AVERAGE</th>\n",
       "    </tr>\n",
       "  </thead>\n",
       "  <tbody>\n",
       "    <tr>\n",
       "      <th>8091</th>\n",
       "      <td>22-05-2023</td>\n",
       "      <td>BM</td>\n",
       "      <td>82.00</td>\n",
       "      <td>78.59</td>\n",
       "      <td>45.00</td>\n",
       "      <td>45.00</td>\n",
       "      <td>55.60</td>\n",
       "      <td>45.00</td>\n",
       "      <td>45.00</td>\n",
       "      <td>43.050</td>\n",
       "      <td>...</td>\n",
       "      <td>51.10</td>\n",
       "      <td>114.00</td>\n",
       "      <td>109.0</td>\n",
       "      <td>51.00</td>\n",
       "      <td>49.30</td>\n",
       "      <td>105.00</td>\n",
       "      <td>58.00</td>\n",
       "      <td>NaN</td>\n",
       "      <td>NaN</td>\n",
       "      <td>80.013</td>\n",
       "    </tr>\n",
       "    <tr>\n",
       "      <th>8092</th>\n",
       "      <td>23-05-2023</td>\n",
       "      <td>BM</td>\n",
       "      <td>48.75</td>\n",
       "      <td>48.75</td>\n",
       "      <td>109.00</td>\n",
       "      <td>140.00</td>\n",
       "      <td>150.00</td>\n",
       "      <td>131.40</td>\n",
       "      <td>80.49</td>\n",
       "      <td>80.810</td>\n",
       "      <td>...</td>\n",
       "      <td>51.21</td>\n",
       "      <td>51.20</td>\n",
       "      <td>51.2</td>\n",
       "      <td>45.00</td>\n",
       "      <td>42.00</td>\n",
       "      <td>25.00</td>\n",
       "      <td>51.00</td>\n",
       "      <td>NaN</td>\n",
       "      <td>NaN</td>\n",
       "      <td>63.621</td>\n",
       "    </tr>\n",
       "    <tr>\n",
       "      <th>8093</th>\n",
       "      <td>24-05-2023</td>\n",
       "      <td>BM</td>\n",
       "      <td>51.00</td>\n",
       "      <td>0.00</td>\n",
       "      <td>0.00</td>\n",
       "      <td>14.00</td>\n",
       "      <td>25.00</td>\n",
       "      <td>51.00</td>\n",
       "      <td>51.50</td>\n",
       "      <td>51.578</td>\n",
       "      <td>...</td>\n",
       "      <td>53.00</td>\n",
       "      <td>53.00</td>\n",
       "      <td>53.0</td>\n",
       "      <td>115.00</td>\n",
       "      <td>53.00</td>\n",
       "      <td>105.00</td>\n",
       "      <td>53.05</td>\n",
       "      <td>NaN</td>\n",
       "      <td>NaN</td>\n",
       "      <td>56.730</td>\n",
       "    </tr>\n",
       "    <tr>\n",
       "      <th>8094</th>\n",
       "      <td>25-05-2023</td>\n",
       "      <td>BM</td>\n",
       "      <td>127.00</td>\n",
       "      <td>53.05</td>\n",
       "      <td>53.05</td>\n",
       "      <td>53.05</td>\n",
       "      <td>53.05</td>\n",
       "      <td>53.15</td>\n",
       "      <td>59.15</td>\n",
       "      <td>57.150</td>\n",
       "      <td>...</td>\n",
       "      <td>53.25</td>\n",
       "      <td>120.00</td>\n",
       "      <td>109.0</td>\n",
       "      <td>53.25</td>\n",
       "      <td>51.55</td>\n",
       "      <td>53.25</td>\n",
       "      <td>51.60</td>\n",
       "      <td>NaN</td>\n",
       "      <td>NaN</td>\n",
       "      <td>73.903</td>\n",
       "    </tr>\n",
       "    <tr>\n",
       "      <th>8095</th>\n",
       "      <td>26-05-2023</td>\n",
       "      <td>BM</td>\n",
       "      <td>51.25</td>\n",
       "      <td>51.30</td>\n",
       "      <td>51.60</td>\n",
       "      <td>51.60</td>\n",
       "      <td>51.60</td>\n",
       "      <td>48.00</td>\n",
       "      <td>46.00</td>\n",
       "      <td>48.000</td>\n",
       "      <td>...</td>\n",
       "      <td>118.00</td>\n",
       "      <td>119.99</td>\n",
       "      <td>119.0</td>\n",
       "      <td>119.00</td>\n",
       "      <td>43.00</td>\n",
       "      <td>114.00</td>\n",
       "      <td>114.00</td>\n",
       "      <td>NaN</td>\n",
       "      <td>NaN</td>\n",
       "      <td>60.804</td>\n",
       "    </tr>\n",
       "  </tbody>\n",
       "</table>\n",
       "<p>5 rows × 53 columns</p>\n",
       "</div>"
      ],
      "text/plain": [
       "            Date Run       1      2       3       4       5       6      7  \\\n",
       "8091  22-05-2023  BM   82.00  78.59   45.00   45.00   55.60   45.00  45.00   \n",
       "8092  23-05-2023  BM   48.75  48.75  109.00  140.00  150.00  131.40  80.49   \n",
       "8093  24-05-2023  BM   51.00   0.00    0.00   14.00   25.00   51.00  51.50   \n",
       "8094  25-05-2023  BM  127.00  53.05   53.05   53.05   53.05   53.15  59.15   \n",
       "8095  26-05-2023  BM   51.25  51.30   51.60   51.60   51.60   48.00  46.00   \n",
       "\n",
       "           8  ...      42      43     44      45     46      47      48  49  \\\n",
       "8091  43.050  ...   51.10  114.00  109.0   51.00  49.30  105.00   58.00 NaN   \n",
       "8092  80.810  ...   51.21   51.20   51.2   45.00  42.00   25.00   51.00 NaN   \n",
       "8093  51.578  ...   53.00   53.00   53.0  115.00  53.00  105.00   53.05 NaN   \n",
       "8094  57.150  ...   53.25  120.00  109.0   53.25  51.55   53.25   51.60 NaN   \n",
       "8095  48.000  ...  118.00  119.99  119.0  119.00  43.00  114.00  114.00 NaN   \n",
       "\n",
       "      50  AVERAGE  \n",
       "8091 NaN   80.013  \n",
       "8092 NaN   63.621  \n",
       "8093 NaN   56.730  \n",
       "8094 NaN   73.903  \n",
       "8095 NaN   60.804  \n",
       "\n",
       "[5 rows x 53 columns]"
      ]
     },
     "execution_count": 3,
     "metadata": {},
     "output_type": "execute_result"
    }
   ],
   "source": [
    "biomass.tail()"
   ]
  },
  {
   "cell_type": "code",
   "execution_count": 5,
   "id": "74d8d0d5",
   "metadata": {},
   "outputs": [],
   "source": [
    "df1 = biomass[['DATETIME', 'BIOMASS','BIOMASS_perc']]"
   ]
  },
  {
   "cell_type": "code",
   "execution_count": 6,
   "id": "5b47bbda",
   "metadata": {},
   "outputs": [
    {
     "data": {
      "text/html": [
       "<div>\n",
       "<style scoped>\n",
       "    .dataframe tbody tr th:only-of-type {\n",
       "        vertical-align: middle;\n",
       "    }\n",
       "\n",
       "    .dataframe tbody tr th {\n",
       "        vertical-align: top;\n",
       "    }\n",
       "\n",
       "    .dataframe thead th {\n",
       "        text-align: right;\n",
       "    }\n",
       "</style>\n",
       "<table border=\"1\" class=\"dataframe\">\n",
       "  <thead>\n",
       "    <tr style=\"text-align: right;\">\n",
       "      <th></th>\n",
       "      <th>DATETIME</th>\n",
       "      <th>BIOMASS</th>\n",
       "      <th>BIOMASS_perc</th>\n",
       "    </tr>\n",
       "  </thead>\n",
       "  <tbody>\n",
       "    <tr>\n",
       "      <th>253552</th>\n",
       "      <td>2023-06-19 08:00:00+00</td>\n",
       "      <td>736.0</td>\n",
       "      <td>2.3</td>\n",
       "    </tr>\n",
       "    <tr>\n",
       "      <th>253553</th>\n",
       "      <td>2023-06-19 08:30:00+00</td>\n",
       "      <td>762.0</td>\n",
       "      <td>2.3</td>\n",
       "    </tr>\n",
       "    <tr>\n",
       "      <th>253554</th>\n",
       "      <td>2023-06-19 09:00:00+00</td>\n",
       "      <td>761.0</td>\n",
       "      <td>2.3</td>\n",
       "    </tr>\n",
       "    <tr>\n",
       "      <th>253555</th>\n",
       "      <td>2023-06-19 09:30:00+00</td>\n",
       "      <td>755.0</td>\n",
       "      <td>2.3</td>\n",
       "    </tr>\n",
       "    <tr>\n",
       "      <th>253556</th>\n",
       "      <td>2023-06-19 10:00:00+00</td>\n",
       "      <td>731.0</td>\n",
       "      <td>2.2</td>\n",
       "    </tr>\n",
       "  </tbody>\n",
       "</table>\n",
       "</div>"
      ],
      "text/plain": [
       "                      DATETIME  BIOMASS  BIOMASS_perc\n",
       "253552  2023-06-19 08:00:00+00    736.0           2.3\n",
       "253553  2023-06-19 08:30:00+00    762.0           2.3\n",
       "253554  2023-06-19 09:00:00+00    761.0           2.3\n",
       "253555  2023-06-19 09:30:00+00    755.0           2.3\n",
       "253556  2023-06-19 10:00:00+00    731.0           2.2"
      ]
     },
     "execution_count": 6,
     "metadata": {},
     "output_type": "execute_result"
    }
   ],
   "source": [
    "df1.tail()"
   ]
  },
  {
   "cell_type": "code",
   "execution_count": 4,
   "id": "b3575251",
   "metadata": {},
   "outputs": [],
   "source": [
    "sellAvg=pd.read_csv('D:/Project/pricesSellAvg.csv')"
   ]
  },
  {
   "cell_type": "code",
   "execution_count": 5,
   "id": "c0312684",
   "metadata": {},
   "outputs": [
    {
     "data": {
      "text/html": [
       "<div>\n",
       "<style scoped>\n",
       "    .dataframe tbody tr th:only-of-type {\n",
       "        vertical-align: middle;\n",
       "    }\n",
       "\n",
       "    .dataframe tbody tr th {\n",
       "        vertical-align: top;\n",
       "    }\n",
       "\n",
       "    .dataframe thead th {\n",
       "        text-align: right;\n",
       "    }\n",
       "</style>\n",
       "<table border=\"1\" class=\"dataframe\">\n",
       "  <thead>\n",
       "    <tr style=\"text-align: right;\">\n",
       "      <th></th>\n",
       "      <th>Date</th>\n",
       "      <th>Run</th>\n",
       "      <th>1</th>\n",
       "      <th>2</th>\n",
       "      <th>3</th>\n",
       "      <th>4</th>\n",
       "      <th>5</th>\n",
       "      <th>6</th>\n",
       "      <th>7</th>\n",
       "      <th>8</th>\n",
       "      <th>...</th>\n",
       "      <th>42</th>\n",
       "      <th>43</th>\n",
       "      <th>44</th>\n",
       "      <th>45</th>\n",
       "      <th>46</th>\n",
       "      <th>47</th>\n",
       "      <th>48</th>\n",
       "      <th>49</th>\n",
       "      <th>50</th>\n",
       "      <th>AVERAGE</th>\n",
       "    </tr>\n",
       "  </thead>\n",
       "  <tbody>\n",
       "    <tr>\n",
       "      <th>8091</th>\n",
       "      <td>22-05-2023</td>\n",
       "      <td>BM</td>\n",
       "      <td>82.00</td>\n",
       "      <td>78.59</td>\n",
       "      <td>45.00</td>\n",
       "      <td>45.00</td>\n",
       "      <td>55.60</td>\n",
       "      <td>45.00</td>\n",
       "      <td>45.00</td>\n",
       "      <td>43.050</td>\n",
       "      <td>...</td>\n",
       "      <td>51.10</td>\n",
       "      <td>114.00</td>\n",
       "      <td>109.0</td>\n",
       "      <td>51.00</td>\n",
       "      <td>49.30</td>\n",
       "      <td>105.00</td>\n",
       "      <td>58.00</td>\n",
       "      <td>NaN</td>\n",
       "      <td>NaN</td>\n",
       "      <td>80.013</td>\n",
       "    </tr>\n",
       "    <tr>\n",
       "      <th>8092</th>\n",
       "      <td>23-05-2023</td>\n",
       "      <td>BM</td>\n",
       "      <td>48.75</td>\n",
       "      <td>48.75</td>\n",
       "      <td>109.00</td>\n",
       "      <td>140.00</td>\n",
       "      <td>150.00</td>\n",
       "      <td>131.40</td>\n",
       "      <td>80.49</td>\n",
       "      <td>80.810</td>\n",
       "      <td>...</td>\n",
       "      <td>51.21</td>\n",
       "      <td>51.20</td>\n",
       "      <td>51.2</td>\n",
       "      <td>45.00</td>\n",
       "      <td>42.00</td>\n",
       "      <td>25.00</td>\n",
       "      <td>51.00</td>\n",
       "      <td>NaN</td>\n",
       "      <td>NaN</td>\n",
       "      <td>63.621</td>\n",
       "    </tr>\n",
       "    <tr>\n",
       "      <th>8093</th>\n",
       "      <td>24-05-2023</td>\n",
       "      <td>BM</td>\n",
       "      <td>51.00</td>\n",
       "      <td>0.00</td>\n",
       "      <td>0.00</td>\n",
       "      <td>14.00</td>\n",
       "      <td>25.00</td>\n",
       "      <td>51.00</td>\n",
       "      <td>51.50</td>\n",
       "      <td>51.578</td>\n",
       "      <td>...</td>\n",
       "      <td>53.00</td>\n",
       "      <td>53.00</td>\n",
       "      <td>53.0</td>\n",
       "      <td>115.00</td>\n",
       "      <td>53.00</td>\n",
       "      <td>105.00</td>\n",
       "      <td>53.05</td>\n",
       "      <td>NaN</td>\n",
       "      <td>NaN</td>\n",
       "      <td>56.730</td>\n",
       "    </tr>\n",
       "    <tr>\n",
       "      <th>8094</th>\n",
       "      <td>25-05-2023</td>\n",
       "      <td>BM</td>\n",
       "      <td>127.00</td>\n",
       "      <td>53.05</td>\n",
       "      <td>53.05</td>\n",
       "      <td>53.05</td>\n",
       "      <td>53.05</td>\n",
       "      <td>53.15</td>\n",
       "      <td>59.15</td>\n",
       "      <td>57.150</td>\n",
       "      <td>...</td>\n",
       "      <td>53.25</td>\n",
       "      <td>120.00</td>\n",
       "      <td>109.0</td>\n",
       "      <td>53.25</td>\n",
       "      <td>51.55</td>\n",
       "      <td>53.25</td>\n",
       "      <td>51.60</td>\n",
       "      <td>NaN</td>\n",
       "      <td>NaN</td>\n",
       "      <td>73.903</td>\n",
       "    </tr>\n",
       "    <tr>\n",
       "      <th>8095</th>\n",
       "      <td>26-05-2023</td>\n",
       "      <td>BM</td>\n",
       "      <td>51.25</td>\n",
       "      <td>51.30</td>\n",
       "      <td>51.60</td>\n",
       "      <td>51.60</td>\n",
       "      <td>51.60</td>\n",
       "      <td>48.00</td>\n",
       "      <td>46.00</td>\n",
       "      <td>48.000</td>\n",
       "      <td>...</td>\n",
       "      <td>118.00</td>\n",
       "      <td>119.99</td>\n",
       "      <td>119.0</td>\n",
       "      <td>119.00</td>\n",
       "      <td>43.00</td>\n",
       "      <td>114.00</td>\n",
       "      <td>114.00</td>\n",
       "      <td>NaN</td>\n",
       "      <td>NaN</td>\n",
       "      <td>60.804</td>\n",
       "    </tr>\n",
       "  </tbody>\n",
       "</table>\n",
       "<p>5 rows × 53 columns</p>\n",
       "</div>"
      ],
      "text/plain": [
       "            Date Run       1      2       3       4       5       6      7  \\\n",
       "8091  22-05-2023  BM   82.00  78.59   45.00   45.00   55.60   45.00  45.00   \n",
       "8092  23-05-2023  BM   48.75  48.75  109.00  140.00  150.00  131.40  80.49   \n",
       "8093  24-05-2023  BM   51.00   0.00    0.00   14.00   25.00   51.00  51.50   \n",
       "8094  25-05-2023  BM  127.00  53.05   53.05   53.05   53.05   53.15  59.15   \n",
       "8095  26-05-2023  BM   51.25  51.30   51.60   51.60   51.60   48.00  46.00   \n",
       "\n",
       "           8  ...      42      43     44      45     46      47      48  49  \\\n",
       "8091  43.050  ...   51.10  114.00  109.0   51.00  49.30  105.00   58.00 NaN   \n",
       "8092  80.810  ...   51.21   51.20   51.2   45.00  42.00   25.00   51.00 NaN   \n",
       "8093  51.578  ...   53.00   53.00   53.0  115.00  53.00  105.00   53.05 NaN   \n",
       "8094  57.150  ...   53.25  120.00  109.0   53.25  51.55   53.25   51.60 NaN   \n",
       "8095  48.000  ...  118.00  119.99  119.0  119.00  43.00  114.00  114.00 NaN   \n",
       "\n",
       "      50  AVERAGE  \n",
       "8091 NaN   80.013  \n",
       "8092 NaN   63.621  \n",
       "8093 NaN   56.730  \n",
       "8094 NaN   73.903  \n",
       "8095 NaN   60.804  \n",
       "\n",
       "[5 rows x 53 columns]"
      ]
     },
     "execution_count": 5,
     "metadata": {},
     "output_type": "execute_result"
    }
   ],
   "source": [
    "sellAvg.tail()"
   ]
  },
  {
   "cell_type": "code",
   "execution_count": 10,
   "id": "ebc622ad",
   "metadata": {},
   "outputs": [
    {
     "data": {
      "text/plain": [
       "<AxesSubplot:xlabel='Date', ylabel='AVERAGE'>"
      ]
     },
     "execution_count": 10,
     "metadata": {},
     "output_type": "execute_result"
    },
    {
     "data": {
      "image/png": "[encoded data removed]",
      "text/plain": [
       "<Figure size 640x480 with 1 Axes>"
      ]
     },
     "metadata": {},
     "output_type": "display_data"
    }
   ],
   "source": [
    "sns.lineplot(data=sellAvg,x='Date',y='AVERAGE')"
   ]
  },
  {
   "cell_type": "code",
   "execution_count": 11,
   "id": "a5c6d785",
   "metadata": {},
   "outputs": [],
   "source": [
    "S_Data=pd.read_csv(r\"D:/Project/df_fuel_ckan.csv\")"
   ]
  },
  {
   "cell_type": "code",
   "execution_count": 12,
   "id": "07eb164b",
   "metadata": {},
   "outputs": [
    {
     "name": "stdout",
     "output_type": "stream",
     "text": [
      "<class 'pandas.core.frame.DataFrame'>\n",
      "RangeIndex: 253557 entries, 0 to 253556\n",
      "Data columns (total 32 columns):\n",
      " #   Column            Non-Null Count   Dtype  \n",
      "---  ------            --------------   -----  \n",
      " 0   DATETIME          253557 non-null  object \n",
      " 1   GAS               253557 non-null  float64\n",
      " 2   COAL              253557 non-null  float64\n",
      " 3   NUCLEAR           253557 non-null  float64\n",
      " 4   WIND              253557 non-null  float64\n",
      " 5   HYDRO             253557 non-null  float64\n",
      " 6   IMPORTS           253557 non-null  float64\n",
      " 7   BIOMASS           253557 non-null  float64\n",
      " 8   OTHER             253557 non-null  float64\n",
      " 9   SOLAR             253557 non-null  float64\n",
      " 10  STORAGE           253557 non-null  float64\n",
      " 11  GENERATION        253557 non-null  float64\n",
      " 12  CARBON_INTENSITY  253488 non-null  float64\n",
      " 13  LOW_CARBON        253557 non-null  float64\n",
      " 14  ZERO_CARBON       253557 non-null  float64\n",
      " 15  RENEWABLE         253557 non-null  float64\n",
      " 16  FOSSIL            253557 non-null  float64\n",
      " 17  GAS_perc          253557 non-null  float64\n",
      " 18  COAL_perc         253557 non-null  float64\n",
      " 19  NUCLEAR_perc      253557 non-null  float64\n",
      " 20  WIND_perc         253557 non-null  float64\n",
      " 21  HYDRO_perc        253557 non-null  float64\n",
      " 22  IMPORTS_perc      253557 non-null  float64\n",
      " 23  BIOMASS_perc      253557 non-null  float64\n",
      " 24  OTHER_perc        253557 non-null  float64\n",
      " 25  SOLAR_perc        253557 non-null  float64\n",
      " 26  STORAGE_perc      253557 non-null  float64\n",
      " 27  GENERATION_perc   253557 non-null  float64\n",
      " 28  LOW_CARBON_perc   253557 non-null  float64\n",
      " 29  ZERO_CARBON_perc  253557 non-null  float64\n",
      " 30  RENEWABLE_perc    253557 non-null  float64\n",
      " 31  FOSSIL_perc       253557 non-null  float64\n",
      "dtypes: float64(31), object(1)\n",
      "memory usage: 61.9+ MB\n"
     ]
    }
   ],
   "source": [
    "S_Data.info()"
   ]
  },
  {
   "cell_type": "code",
   "execution_count": 13,
   "id": "53ed0242",
   "metadata": {},
   "outputs": [],
   "source": [
    "S_Data2= S_Data.loc[:, ['DATETIME','BIOMASS','BIOMASS_perc']]"
   ]
  },
  {
   "cell_type": "code",
   "execution_count": 18,
   "id": "3479bccf",
   "metadata": {},
   "outputs": [
    {
     "name": "stdout",
     "output_type": "stream",
     "text": [
      "Original Orders DataFrame:\n",
      "\n",
      "Year wise Month wise purchase amount:\n",
      "           AVERAGE\n",
      "Date Date         \n",
      "2001 1      56.181\n",
      "     2      60.328\n",
      "     3      88.070\n",
      "     4     134.315\n",
      "     5     212.837\n",
      "...            ...\n",
      "2023 8     625.373\n",
      "     9     607.182\n",
      "     10    490.844\n",
      "     11    577.736\n",
      "     12    567.640\n",
      "\n",
      "[276 rows x 1 columns]\n"
     ]
    }
   ],
   "source": [
    "print(\"Original Orders DataFrame:\")\n",
    "#print(sellAvg)\n",
    "sellAvg['Date']= pd.to_datetime(sellAvg['Date']) \n",
    "print(\"\\nYear wise Month wise purchase amount:\")\n",
    "result = sellAvg.groupby([sellAvg['Date'].dt.year, sellAvg['Date'].dt.month]).agg({'AVERAGE':sum})\n",
    "print(result)"
   ]
  },
  {
   "cell_type": "code",
   "execution_count": 19,
   "id": "f5b1e079",
   "metadata": {},
   "outputs": [
    {
     "data": {
      "text/plain": [
       "<AxesSubplot:xlabel='Date', ylabel='AVERAGE'>"
      ]
     },
     "execution_count": 19,
     "metadata": {},
     "output_type": "execute_result"
    },
    {
     "data": {
      "image/png": "[encoded data removed]",
      "text/plain": [
       "<Figure size 640x480 with 1 Axes>"
      ]
     },
     "metadata": {},
     "output_type": "display_data"
    }
   ],
   "source": [
    "sns.lineplot(data=result,x='Date',y='AVERAGE')"
   ]
  },
  {
   "cell_type": "code",
   "execution_count": 31,
   "id": "2f846f38",
   "metadata": {},
   "outputs": [],
   "source": [
    "from statistics import mean "
   ]
  },
  {
   "cell_type": "code",
   "execution_count": 33,
   "id": "6e36188a",
   "metadata": {},
   "outputs": [],
   "source": [
    "length=len(sellAvg['AVERAGE'])"
   ]
  },
  {
   "cell_type": "code",
   "execution_count": 34,
   "id": "5a4f769a",
   "metadata": {},
   "outputs": [
    {
     "name": "stdout",
     "output_type": "stream",
     "text": [
      "8096\n"
     ]
    }
   ],
   "source": [
    "print(length)"
   ]
  },
  {
   "cell_type": "code",
   "execution_count": 39,
   "id": "5ffb3a5c",
   "metadata": {},
   "outputs": [],
   "source": [
    "sum_lst = sum(sellAvg['AVERAGE'])"
   ]
  },
  {
   "cell_type": "code",
   "execution_count": 40,
   "id": "c6e6964e",
   "metadata": {},
   "outputs": [],
   "source": [
    "avg2=sum_lst/length"
   ]
  },
  {
   "cell_type": "code",
   "execution_count": 41,
   "id": "febf3dd4",
   "metadata": {},
   "outputs": [],
   "source": [
    "result1 = sellAvg.groupby([sellAvg['Date'].dt.year]).agg({'AVERAGE':mean})"
   ]
  },
  {
   "cell_type": "code",
   "execution_count": 42,
   "id": "8547322d",
   "metadata": {},
   "outputs": [
    {
     "name": "stdout",
     "output_type": "stream",
     "text": [
      "         AVERAGE\n",
      "Date            \n",
      "2001    8.385796\n",
      "2002   10.698923\n",
      "2003   14.375362\n",
      "2004   16.823049\n",
      "2005   29.796707\n",
      "2006   31.316627\n",
      "2007   23.820436\n",
      "2008   53.083631\n",
      "2009   29.904244\n",
      "2010   35.799195\n",
      "2011   41.491310\n",
      "2012   38.927260\n",
      "2013   43.932271\n",
      "2014   37.076589\n",
      "2015   36.575874\n",
      "2016   40.028847\n",
      "2017   45.093030\n",
      "2018   57.409638\n",
      "2019   41.886005\n",
      "2020   34.945620\n",
      "2021  112.490367\n",
      "2022  200.088921\n",
      "2023  115.929219\n"
     ]
    }
   ],
   "source": [
    "print(result1)"
   ]
  },
  {
   "cell_type": "code",
   "execution_count": 44,
   "id": "5d7a5bca",
   "metadata": {},
   "outputs": [
    {
     "data": {
      "text/plain": [
       "<AxesSubplot:xlabel='Date', ylabel='AVERAGE'>"
      ]
     },
     "execution_count": 44,
     "metadata": {},
     "output_type": "execute_result"
    },
    {
     "data": {
      "image/png": "[encoded data removed]",
      "text/plain": [
       "<Figure size 640x480 with 1 Axes>"
      ]
     },
     "metadata": {},
     "output_type": "display_data"
    }
   ],
   "source": [
    "sns.lineplot(data=result1,x='Date',y='AVERAGE')"
   ]
  },
  {
   "cell_type": "code",
   "execution_count": 45,
   "id": "7ef3ffbb",
   "metadata": {},
   "outputs": [],
   "source": [
    "result2 = sellAvg.groupby([sellAvg['Date'].dt.year, sellAvg['Date'].dt.month]).agg({'AVERAGE':mean})"
   ]
  },
  {
   "cell_type": "code",
   "execution_count": 46,
   "id": "6c61b0b0",
   "metadata": {},
   "outputs": [
    {
     "name": "stdout",
     "output_type": "stream",
     "text": [
      "              AVERAGE\n",
      "Date Date            \n",
      "2001 1       6.242333\n",
      "     2       6.703111\n",
      "     3       6.290714\n",
      "     4       4.974630\n",
      "     5       7.601321\n",
      "...               ...\n",
      "2023 8     125.074600\n",
      "     9     121.436400\n",
      "     10     98.168800\n",
      "     11    115.547200\n",
      "     12    113.528000\n",
      "\n",
      "[276 rows x 1 columns]\n"
     ]
    }
   ],
   "source": [
    "print(result2)"
   ]
  },
  {
   "cell_type": "code",
   "execution_count": 47,
   "id": "404ba531",
   "metadata": {},
   "outputs": [
    {
     "data": {
      "text/plain": [
       "<AxesSubplot:xlabel='Date', ylabel='AVERAGE'>"
      ]
     },
     "execution_count": 47,
     "metadata": {},
     "output_type": "execute_result"
    },
    {
     "data": {
      "image/png": "[encoded data removed]",
      "text/plain": [
       "<Figure size 640x480 with 1 Axes>"
      ]
     },
     "metadata": {},
     "output_type": "display_data"
    }
   ],
   "source": [
    "sns.lineplot(data=result2,x='Date',y='AVERAGE')"
   ]
  },
  {
   "cell_type": "code",
   "execution_count": 55,
   "id": "04fb7011",
   "metadata": {},
   "outputs": [
    {
     "data": {
      "text/plain": [
       "<AxesSubplot:xlabel='Date', ylabel='AVERAGE'>"
      ]
     },
     "execution_count": 55,
     "metadata": {},
     "output_type": "execute_result"
    },
    {
     "data": {
      "image/png": "[encoded data removed]",
      "text/plain": [
       "<Figure size 640x480 with 1 Axes>"
      ]
     },
     "metadata": {},
     "output_type": "display_data"
    }
   ],
   "source": [
    "sns.lineplot(data=result2,x='Date',y='AVERAGE',ci=0)"
   ]
  },
  {
   "cell_type": "code",
   "execution_count": 59,
   "id": "b6eb7a23",
   "metadata": {},
   "outputs": [
    {
     "data": {
      "text/html": [
       "<div>\n",
       "<style scoped>\n",
       "    .dataframe tbody tr th:only-of-type {\n",
       "        vertical-align: middle;\n",
       "    }\n",
       "\n",
       "    .dataframe tbody tr th {\n",
       "        vertical-align: top;\n",
       "    }\n",
       "\n",
       "    .dataframe thead th {\n",
       "        text-align: right;\n",
       "    }\n",
       "</style>\n",
       "<table border=\"1\" class=\"dataframe\">\n",
       "  <thead>\n",
       "    <tr style=\"text-align: right;\">\n",
       "      <th></th>\n",
       "      <th></th>\n",
       "      <th>AVERAGE</th>\n",
       "    </tr>\n",
       "    <tr>\n",
       "      <th>Date</th>\n",
       "      <th>Date</th>\n",
       "      <th></th>\n",
       "    </tr>\n",
       "  </thead>\n",
       "  <tbody>\n",
       "    <tr>\n",
       "      <th rowspan=\"12\" valign=\"top\">2001</th>\n",
       "      <th>1</th>\n",
       "      <td>6.242333</td>\n",
       "    </tr>\n",
       "    <tr>\n",
       "      <th>2</th>\n",
       "      <td>6.703111</td>\n",
       "    </tr>\n",
       "    <tr>\n",
       "      <th>3</th>\n",
       "      <td>6.290714</td>\n",
       "    </tr>\n",
       "    <tr>\n",
       "      <th>4</th>\n",
       "      <td>4.974630</td>\n",
       "    </tr>\n",
       "    <tr>\n",
       "      <th>5</th>\n",
       "      <td>7.601321</td>\n",
       "    </tr>\n",
       "    <tr>\n",
       "      <th>6</th>\n",
       "      <td>8.613963</td>\n",
       "    </tr>\n",
       "    <tr>\n",
       "      <th>7</th>\n",
       "      <td>8.181750</td>\n",
       "    </tr>\n",
       "    <tr>\n",
       "      <th>8</th>\n",
       "      <td>9.136357</td>\n",
       "    </tr>\n",
       "    <tr>\n",
       "      <th>9</th>\n",
       "      <td>8.558185</td>\n",
       "    </tr>\n",
       "    <tr>\n",
       "      <th>10</th>\n",
       "      <td>8.059607</td>\n",
       "    </tr>\n",
       "    <tr>\n",
       "      <th>11</th>\n",
       "      <td>10.683519</td>\n",
       "    </tr>\n",
       "    <tr>\n",
       "      <th>12</th>\n",
       "      <td>11.914750</td>\n",
       "    </tr>\n",
       "    <tr>\n",
       "      <th rowspan=\"8\" valign=\"top\">2002</th>\n",
       "      <th>1</th>\n",
       "      <td>11.405032</td>\n",
       "    </tr>\n",
       "    <tr>\n",
       "      <th>2</th>\n",
       "      <td>10.792964</td>\n",
       "    </tr>\n",
       "    <tr>\n",
       "      <th>3</th>\n",
       "      <td>10.629968</td>\n",
       "    </tr>\n",
       "    <tr>\n",
       "      <th>4</th>\n",
       "      <td>10.520533</td>\n",
       "    </tr>\n",
       "    <tr>\n",
       "      <th>5</th>\n",
       "      <td>10.042065</td>\n",
       "    </tr>\n",
       "    <tr>\n",
       "      <th>6</th>\n",
       "      <td>9.543167</td>\n",
       "    </tr>\n",
       "    <tr>\n",
       "      <th>7</th>\n",
       "      <td>9.534452</td>\n",
       "    </tr>\n",
       "    <tr>\n",
       "      <th>8</th>\n",
       "      <td>10.685581</td>\n",
       "    </tr>\n",
       "  </tbody>\n",
       "</table>\n",
       "</div>"
      ],
      "text/plain": [
       "             AVERAGE\n",
       "Date Date           \n",
       "2001 1      6.242333\n",
       "     2      6.703111\n",
       "     3      6.290714\n",
       "     4      4.974630\n",
       "     5      7.601321\n",
       "     6      8.613963\n",
       "     7      8.181750\n",
       "     8      9.136357\n",
       "     9      8.558185\n",
       "     10     8.059607\n",
       "     11    10.683519\n",
       "     12    11.914750\n",
       "2002 1     11.405032\n",
       "     2     10.792964\n",
       "     3     10.629968\n",
       "     4     10.520533\n",
       "     5     10.042065\n",
       "     6      9.543167\n",
       "     7      9.534452\n",
       "     8     10.685581"
      ]
     },
     "execution_count": 59,
     "metadata": {},
     "output_type": "execute_result"
    }
   ],
   "source": [
    "result2.head(20)"
   ]
  },
  {
   "cell_type": "code",
   "execution_count": null,
   "id": "fcec6b80",
   "metadata": {},
   "outputs": [],
   "source": []
  },
  {
   "cell_type": "code",
   "execution_count": null,
   "id": "fd00606a",
   "metadata": {},
   "outputs": [],
   "source": []
  },
  {
   "cell_type": "code",
   "execution_count": null,
   "id": "86be042d",
   "metadata": {},
   "outputs": [],
   "source": []
  },
  {
   "cell_type": "code",
   "execution_count": null,
   "id": "d972610f",
   "metadata": {},
   "outputs": [],
   "source": []
  },
  {
   "cell_type": "code",
   "execution_count": null,
   "id": "7100a103",
   "metadata": {},
   "outputs": [],
   "source": []
  },
  {
   "cell_type": "code",
   "execution_count": null,
   "id": "3d020702",
   "metadata": {},
   "outputs": [],
   "source": []
  },
  {
   "cell_type": "code",
   "execution_count": null,
   "id": "e7fef401",
   "metadata": {},
   "outputs": [],
   "source": []
  },
  {
   "cell_type": "code",
   "execution_count": null,
   "id": "350aff60",
   "metadata": {},
   "outputs": [],
   "source": []
  },
  {
   "cell_type": "code",
   "execution_count": null,
   "id": "dc95810e",
   "metadata": {},
   "outputs": [],
   "source": []
  },
  {
   "cell_type": "code",
   "execution_count": null,
   "id": "9fccdefb",
   "metadata": {},
   "outputs": [],
   "source": []
  },
  {
   "cell_type": "code",
   "execution_count": null,
   "id": "2a996908",
   "metadata": {},
   "outputs": [],
   "source": []
  },
  {
   "cell_type": "code",
   "execution_count": null,
   "id": "98950722",
   "metadata": {},
   "outputs": [],
   "source": []
  },
  {
   "cell_type": "code",
   "execution_count": null,
   "id": "51799c86",
   "metadata": {},
   "outputs": [],
   "source": []
  },
  {
   "cell_type": "code",
   "execution_count": null,
   "id": "7c885eac",
   "metadata": {},
   "outputs": [],
   "source": []
  },
  {
   "cell_type": "code",
   "execution_count": null,
   "id": "6d5559ca",
   "metadata": {},
   "outputs": [],
   "source": []
  },
  {
   "cell_type": "code",
   "execution_count": null,
   "id": "bf0523b0",
   "metadata": {},
   "outputs": [],
   "source": []
  }
 ],
 "metadata": {
  "kernelspec": {
   "display_name": "Python 3 (ipykernel)",
   "language": "python",
   "name": "python3"
  },
  "language_info": {
   "codemirror_mode": {
    "name": "ipython",
    "version": 3
   },
   "file_extension": ".py",
   "mimetype": "text/x-python",
   "name": "python",
   "nbconvert_exporter": "python",
   "pygments_lexer": "ipython3",
   "version": "3.9.13"
  }
 },
 "nbformat": 4,
 "nbformat_minor": 5
}
